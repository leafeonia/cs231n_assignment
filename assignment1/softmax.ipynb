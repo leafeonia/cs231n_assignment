{
 "cells": [
  {
   "cell_type": "markdown",
   "metadata": {},
   "source": [
    "# Softmax exercise\n",
    "\n",
    "*Complete and hand in this completed worksheet (including its outputs and any supporting code outside of the worksheet) with your assignment submission. For more details see the [assignments page](http://vision.stanford.edu/teaching/cs231n/assignments.html) on the course website.*\n",
    "\n",
    "This exercise is analogous to the SVM exercise. You will:\n",
    "\n",
    "- implement a fully-vectorized **loss function** for the Softmax classifier\n",
    "- implement the fully-vectorized expression for its **analytic gradient**\n",
    "- **check your implementation** with numerical gradient\n",
    "- use a validation set to **tune the learning rate and regularization** strength\n",
    "- **optimize** the loss function with **SGD**\n",
    "- **visualize** the final learned weights\n"
   ]
  },
  {
   "cell_type": "code",
   "execution_count": 1,
   "metadata": {},
   "outputs": [],
   "source": [
    "import random\n",
    "import numpy as np\n",
    "from cs231n.data_utils import load_CIFAR10\n",
    "import matplotlib.pyplot as plt\n",
    "\n",
    "from __future__ import print_function\n",
    "\n",
    "%matplotlib inline\n",
    "plt.rcParams['figure.figsize'] = (10.0, 8.0) # set default size of plots\n",
    "plt.rcParams['image.interpolation'] = 'nearest'\n",
    "plt.rcParams['image.cmap'] = 'gray'\n",
    "\n",
    "# for auto-reloading extenrnal modules\n",
    "# see http://stackoverflow.com/questions/1907993/autoreload-of-modules-in-ipython\n",
    "%load_ext autoreload\n",
    "%autoreload 2"
   ]
  },
  {
   "cell_type": "code",
   "execution_count": 2,
   "metadata": {},
   "outputs": [
    {
     "name": "stdout",
     "output_type": "stream",
     "text": [
      "Train data shape:  (49000, 3073)\n",
      "Train labels shape:  (49000,)\n",
      "Validation data shape:  (1000, 3073)\n",
      "Validation labels shape:  (1000,)\n",
      "Test data shape:  (1000, 3073)\n",
      "Test labels shape:  (1000,)\n",
      "dev data shape:  (500, 3073)\n",
      "dev labels shape:  (500,)\n"
     ]
    }
   ],
   "source": [
    "def get_CIFAR10_data(num_training=49000, num_validation=1000, num_test=1000, num_dev=500):\n",
    "    \"\"\"\n",
    "    Load the CIFAR-10 dataset from disk and perform preprocessing to prepare\n",
    "    it for the linear classifier. These are the same steps as we used for the\n",
    "    SVM, but condensed to a single function.  \n",
    "    \"\"\"\n",
    "    # Load the raw CIFAR-10 data\n",
    "    cifar10_dir = 'cs231n/datasets/cifar-10-batches-py'\n",
    "    X_train, y_train, X_test, y_test = load_CIFAR10(cifar10_dir)\n",
    "    \n",
    "    # subsample the data\n",
    "    mask = list(range(num_training, num_training + num_validation))\n",
    "    X_val = X_train[mask]\n",
    "    y_val = y_train[mask]\n",
    "    mask = list(range(num_training))\n",
    "    X_train = X_train[mask]\n",
    "    y_train = y_train[mask]\n",
    "    mask = list(range(num_test))\n",
    "    X_test = X_test[mask]\n",
    "    y_test = y_test[mask]\n",
    "    mask = np.random.choice(num_training, num_dev, replace=False)\n",
    "    X_dev = X_train[mask]\n",
    "    y_dev = y_train[mask]\n",
    "    \n",
    "    # Preprocessing: reshape the image data into rows\n",
    "    X_train = np.reshape(X_train, (X_train.shape[0], -1))\n",
    "    X_val = np.reshape(X_val, (X_val.shape[0], -1))\n",
    "    X_test = np.reshape(X_test, (X_test.shape[0], -1))\n",
    "    X_dev = np.reshape(X_dev, (X_dev.shape[0], -1))\n",
    "    \n",
    "    # Normalize the data: subtract the mean image\n",
    "    mean_image = np.mean(X_train, axis = 0)\n",
    "    X_train -= mean_image\n",
    "    X_val -= mean_image\n",
    "    X_test -= mean_image\n",
    "    X_dev -= mean_image\n",
    "    \n",
    "    # add bias dimension and transform into columns\n",
    "    X_train = np.hstack([X_train, np.ones((X_train.shape[0], 1))])\n",
    "    X_val = np.hstack([X_val, np.ones((X_val.shape[0], 1))])\n",
    "    X_test = np.hstack([X_test, np.ones((X_test.shape[0], 1))])\n",
    "    X_dev = np.hstack([X_dev, np.ones((X_dev.shape[0], 1))])\n",
    "    \n",
    "    return X_train, y_train, X_val, y_val, X_test, y_test, X_dev, y_dev\n",
    "\n",
    "\n",
    "# Invoke the above function to get our data.\n",
    "X_train, y_train, X_val, y_val, X_test, y_test, X_dev, y_dev = get_CIFAR10_data()\n",
    "print('Train data shape: ', X_train.shape)\n",
    "print('Train labels shape: ', y_train.shape)\n",
    "print('Validation data shape: ', X_val.shape)\n",
    "print('Validation labels shape: ', y_val.shape)\n",
    "print('Test data shape: ', X_test.shape)\n",
    "print('Test labels shape: ', y_test.shape)\n",
    "print('dev data shape: ', X_dev.shape)\n",
    "print('dev labels shape: ', y_dev.shape)"
   ]
  },
  {
   "cell_type": "markdown",
   "metadata": {},
   "source": [
    "## Softmax Classifier\n",
    "\n",
    "Your code for this section will all be written inside **cs231n/classifiers/softmax.py**. \n"
   ]
  },
  {
   "cell_type": "code",
   "execution_count": 3,
   "metadata": {},
   "outputs": [
    {
     "name": "stdout",
     "output_type": "stream",
     "text": [
      "loss: 2.363736\n",
      "sanity check: 2.302585\n"
     ]
    }
   ],
   "source": [
    "# First implement the naive softmax loss function with nested loops.\n",
    "# Open the file cs231n/classifiers/softmax.py and implement the\n",
    "# softmax_loss_naive function.\n",
    "\n",
    "from cs231n.classifiers.softmax import softmax_loss_naive\n",
    "import time\n",
    "\n",
    "# Generate a random softmax weight matrix and use it to compute the loss.\n",
    "W = np.random.randn(3073, 10) * 0.0001\n",
    "loss, grad = softmax_loss_naive(W, X_dev, y_dev, 0.0)\n",
    "\n",
    "# As a rough sanity check, our loss should be something close to -log(0.1).\n",
    "print('loss: %f' % loss)\n",
    "print('sanity check: %f' % (-np.log(0.1)))"
   ]
  },
  {
   "cell_type": "markdown",
   "metadata": {},
   "source": [
    "## Inline Question 1:\n",
    "Why do we expect our loss to be close to -log(0.1)? Explain briefly.**\n",
    "\n",
    "**Your answer:** *loss_i = -exp(P(correct class)) and since there are 10 classes in total P(correct class) is close to 0.1. Therefore loss is expected to be close to -log(0.1)*\n"
   ]
  },
  {
   "cell_type": "code",
   "execution_count": 4,
   "metadata": {},
   "outputs": [
    {
     "name": "stdout",
     "output_type": "stream",
     "text": [
      "numerical: -1.320967 analytic: -1.320967, relative error: 1.933452e-08\n",
      "numerical: -0.605890 analytic: -0.605890, relative error: 2.254940e-08\n",
      "numerical: 1.611175 analytic: 1.611175, relative error: 1.940136e-08\n",
      "numerical: 2.731178 analytic: 2.731178, relative error: 2.187127e-08\n",
      "numerical: -0.299786 analytic: -0.299786, relative error: 2.087103e-07\n",
      "numerical: -1.850810 analytic: -1.850810, relative error: 4.218727e-09\n",
      "numerical: -1.855182 analytic: -1.855182, relative error: 4.013064e-09\n",
      "numerical: -0.600212 analytic: -0.600212, relative error: 6.726458e-08\n",
      "numerical: -1.128383 analytic: -1.128383, relative error: 1.516248e-09\n",
      "numerical: -0.989659 analytic: -0.989659, relative error: 5.558403e-08\n",
      "numerical: 1.388470 analytic: 1.388470, relative error: 2.059136e-08\n",
      "numerical: 2.968683 analytic: 2.968683, relative error: 8.569581e-09\n",
      "numerical: -0.605000 analytic: -0.605000, relative error: 7.450760e-09\n",
      "numerical: -1.539403 analytic: -1.539403, relative error: 1.382688e-09\n",
      "numerical: 0.655340 analytic: 0.655340, relative error: 3.385447e-08\n",
      "numerical: -2.108235 analytic: -2.108235, relative error: 1.520602e-08\n",
      "numerical: 0.304663 analytic: 0.304663, relative error: 2.810496e-07\n",
      "numerical: -0.536422 analytic: -0.536422, relative error: 1.074354e-08\n",
      "numerical: -1.205135 analytic: -1.205135, relative error: 3.078930e-09\n",
      "numerical: -0.680293 analytic: -0.680293, relative error: 3.422744e-08\n"
     ]
    }
   ],
   "source": [
    "# Complete the implementation of softmax_loss_naive and implement a (naive)\n",
    "# version of the gradient that uses nested loops.\n",
    "loss, grad = softmax_loss_naive(W, X_dev, y_dev, 0.0)\n",
    "\n",
    "# As we did for the SVM, use numeric gradient checking as a debugging tool.\n",
    "# The numeric gradient should be close to the analytic gradient.\n",
    "from cs231n.gradient_check import grad_check_sparse\n",
    "f = lambda w: softmax_loss_naive(w, X_dev, y_dev, 0.0)[0]\n",
    "grad_numerical = grad_check_sparse(f, W, grad, 10)\n",
    "\n",
    "# similar to SVM case, do another gradient check with regularization\n",
    "loss, grad = softmax_loss_naive(W, X_dev, y_dev, 5e1)\n",
    "f = lambda w: softmax_loss_naive(w, X_dev, y_dev, 5e1)[0]\n",
    "grad_numerical = grad_check_sparse(f, W, grad, 10)"
   ]
  },
  {
   "cell_type": "code",
   "execution_count": 10,
   "metadata": {},
   "outputs": [
    {
     "name": "stdout",
     "output_type": "stream",
     "text": [
      "naive loss: 2.363736e+00 computed in 0.182512s\n",
      "(500,)\n",
      "vectorized loss: 2.364045e+00 computed in 0.008978s\n",
      "Loss difference: 0.000309\n",
      "Gradient difference: 0.000000\n"
     ]
    }
   ],
   "source": [
    "# Now that we have a naive implementation of the softmax loss function and its gradient,\n",
    "# implement a vectorized version in softmax_loss_vectorized.\n",
    "# The two versions should compute the same results, but the vectorized version should be\n",
    "# much faster.\n",
    "tic = time.time()\n",
    "loss_naive, grad_naive = softmax_loss_naive(W, X_dev, y_dev, 0.000005)\n",
    "toc = time.time()\n",
    "print('naive loss: %e computed in %fs' % (loss_naive, toc - tic))\n",
    "\n",
    "from cs231n.classifiers.softmax import softmax_loss_vectorized\n",
    "tic = time.time()\n",
    "loss_vectorized, grad_vectorized = softmax_loss_vectorized(W, X_dev, y_dev, 0.000005)\n",
    "toc = time.time()\n",
    "print('vectorized loss: %e computed in %fs' % (loss_vectorized, toc - tic))\n",
    "\n",
    "# As we did for the SVM, we use the Frobenius norm to compare the two versions\n",
    "# of the gradient.\n",
    "grad_difference = np.linalg.norm(grad_naive - grad_vectorized, ord='fro')\n",
    "print('Loss difference: %f' % np.abs(loss_naive - loss_vectorized))\n",
    "print('Gradient difference: %f' % grad_difference)"
   ]
  },
  {
   "cell_type": "code",
   "execution_count": 6,
   "metadata": {},
   "outputs": [
    {
     "name": "stdout",
     "output_type": "stream",
     "text": [
      "1e-07\n",
      "5e-07\n",
      "[1.e-07 3.e-07 5.e-07]\n"
     ]
    }
   ],
   "source": [
    "learning_rates = [1e-7, 5e-7]\n",
    "regularization_strengths = [2.5e4, 5e4]\n",
    "for lr in learning_rates:\n",
    "    print(lr)\n",
    "print(np.linspace(learning_rates[0],learning_rates[1],3))"
   ]
  },
  {
   "cell_type": "code",
   "execution_count": 12,
   "metadata": {},
   "outputs": [
    {
     "name": "stdout",
     "output_type": "stream",
     "text": [
      "iteration 0 / 100: loss 5.915575\n",
      "iteration 0 / 100: loss 5.194666\n",
      "iteration 0 / 100: loss 5.112348\n",
      "iteration 0 / 100: loss 5.645552\n",
      "iteration 0 / 100: loss 6.682324\n",
      "iteration 0 / 100: loss 5.450041\n",
      "iteration 0 / 100: loss 5.803123\n",
      "iteration 0 / 100: loss 5.788094\n",
      "iteration 0 / 100: loss 6.097809\n",
      "iteration 0 / 100: loss 6.131055\n",
      "iteration 0 / 100: loss 5.416232\n",
      "iteration 0 / 100: loss 5.479257\n",
      "iteration 0 / 100: loss 5.139784\n",
      "iteration 0 / 100: loss 7.442444\n",
      "iteration 0 / 100: loss 5.866689\n",
      "iteration 0 / 100: loss 6.503726\n",
      "iteration 0 / 100: loss 5.816105\n",
      "iteration 0 / 100: loss 5.221221\n",
      "iteration 0 / 100: loss 4.160123\n",
      "iteration 0 / 100: loss 5.352858\n",
      "iteration 0 / 100: loss 5.887031\n",
      "iteration 0 / 100: loss 6.527150\n",
      "iteration 0 / 100: loss 5.858792\n",
      "iteration 0 / 100: loss 5.483237\n",
      "iteration 0 / 100: loss 4.890769\n",
      "iteration 0 / 100: loss 5.745405\n",
      "iteration 0 / 100: loss 5.532308\n",
      "iteration 0 / 100: loss 6.747703\n",
      "iteration 0 / 100: loss 6.349356\n",
      "iteration 0 / 100: loss 5.025850\n",
      "iteration 0 / 100: loss 5.610826\n",
      "iteration 0 / 100: loss 5.926773\n",
      "iteration 0 / 100: loss 5.579375\n",
      "iteration 0 / 100: loss 5.325014\n",
      "iteration 0 / 100: loss 5.467071\n",
      "iteration 0 / 100: loss 5.992840\n",
      "iteration 0 / 100: loss 4.818867\n",
      "iteration 0 / 100: loss 5.007230\n",
      "iteration 0 / 100: loss 5.689540\n",
      "iteration 0 / 100: loss 5.382372\n",
      "lr 1.000000e-07 reg 2.500000e+04 train accuracy: 0.161224 val accuracy: 0.172000\n",
      "lr 1.000000e-07 reg 2.857143e+04 train accuracy: 0.168122 val accuracy: 0.179000\n",
      "lr 1.000000e-07 reg 3.214286e+04 train accuracy: 0.147388 val accuracy: 0.147000\n",
      "lr 1.000000e-07 reg 3.571429e+04 train accuracy: 0.152143 val accuracy: 0.150000\n",
      "lr 1.000000e-07 reg 3.928571e+04 train accuracy: 0.159510 val accuracy: 0.137000\n",
      "lr 1.000000e-07 reg 4.285714e+04 train accuracy: 0.170694 val accuracy: 0.183000\n",
      "lr 1.000000e-07 reg 4.642857e+04 train accuracy: 0.158816 val accuracy: 0.151000\n",
      "lr 1.000000e-07 reg 5.000000e+04 train accuracy: 0.149061 val accuracy: 0.143000\n",
      "lr 2.000000e-07 reg 2.500000e+04 train accuracy: 0.210837 val accuracy: 0.217000\n",
      "lr 2.000000e-07 reg 2.857143e+04 train accuracy: 0.198286 val accuracy: 0.197000\n",
      "lr 2.000000e-07 reg 3.214286e+04 train accuracy: 0.223449 val accuracy: 0.233000\n",
      "lr 2.000000e-07 reg 3.571429e+04 train accuracy: 0.219551 val accuracy: 0.215000\n",
      "lr 2.000000e-07 reg 3.928571e+04 train accuracy: 0.236184 val accuracy: 0.257000\n",
      "lr 2.000000e-07 reg 4.285714e+04 train accuracy: 0.236694 val accuracy: 0.240000\n",
      "lr 2.000000e-07 reg 4.642857e+04 train accuracy: 0.235408 val accuracy: 0.255000\n",
      "lr 2.000000e-07 reg 5.000000e+04 train accuracy: 0.246898 val accuracy: 0.244000\n",
      "lr 3.000000e-07 reg 2.500000e+04 train accuracy: 0.250633 val accuracy: 0.242000\n",
      "lr 3.000000e-07 reg 2.857143e+04 train accuracy: 0.259571 val accuracy: 0.250000\n",
      "lr 3.000000e-07 reg 3.214286e+04 train accuracy: 0.265143 val accuracy: 0.278000\n",
      "lr 3.000000e-07 reg 3.571429e+04 train accuracy: 0.279939 val accuracy: 0.288000\n",
      "lr 3.000000e-07 reg 3.928571e+04 train accuracy: 0.288980 val accuracy: 0.297000\n",
      "lr 3.000000e-07 reg 4.285714e+04 train accuracy: 0.286286 val accuracy: 0.296000\n",
      "lr 3.000000e-07 reg 4.642857e+04 train accuracy: 0.284898 val accuracy: 0.304000\n",
      "lr 3.000000e-07 reg 5.000000e+04 train accuracy: 0.298490 val accuracy: 0.306000\n",
      "lr 4.000000e-07 reg 2.500000e+04 train accuracy: 0.288796 val accuracy: 0.292000\n",
      "lr 4.000000e-07 reg 2.857143e+04 train accuracy: 0.288347 val accuracy: 0.304000\n",
      "lr 4.000000e-07 reg 3.214286e+04 train accuracy: 0.281959 val accuracy: 0.301000\n",
      "lr 4.000000e-07 reg 3.571429e+04 train accuracy: 0.294367 val accuracy: 0.310000\n",
      "lr 4.000000e-07 reg 3.928571e+04 train accuracy: 0.311816 val accuracy: 0.331000\n",
      "lr 4.000000e-07 reg 4.285714e+04 train accuracy: 0.292408 val accuracy: 0.300000\n",
      "lr 4.000000e-07 reg 4.642857e+04 train accuracy: 0.297918 val accuracy: 0.301000\n",
      "lr 4.000000e-07 reg 5.000000e+04 train accuracy: 0.297816 val accuracy: 0.315000\n",
      "lr 5.000000e-07 reg 2.500000e+04 train accuracy: 0.293878 val accuracy: 0.318000\n",
      "lr 5.000000e-07 reg 2.857143e+04 train accuracy: 0.310061 val accuracy: 0.318000\n",
      "lr 5.000000e-07 reg 3.214286e+04 train accuracy: 0.311612 val accuracy: 0.341000\n",
      "lr 5.000000e-07 reg 3.571429e+04 train accuracy: 0.304102 val accuracy: 0.323000\n",
      "lr 5.000000e-07 reg 3.928571e+04 train accuracy: 0.299102 val accuracy: 0.327000\n",
      "lr 5.000000e-07 reg 4.285714e+04 train accuracy: 0.308041 val accuracy: 0.326000\n",
      "lr 5.000000e-07 reg 4.642857e+04 train accuracy: 0.295694 val accuracy: 0.306000\n",
      "lr 5.000000e-07 reg 5.000000e+04 train accuracy: 0.311633 val accuracy: 0.323000\n",
      "best validation accuracy achieved during cross-validation: 0.341000\n"
     ]
    }
   ],
   "source": [
    "# Use the validation set to tune hyperparameters (regularization strength and\n",
    "# learning rate). You should experiment with different ranges for the learning\n",
    "# rates and regularization strengths; if you are careful you should be able to\n",
    "# get a classification accuracy of over 0.35 on the validation set.\n",
    "from cs231n.classifiers import Softmax\n",
    "results = {}\n",
    "best_val = -1\n",
    "best_softmax = None\n",
    "learning_rates = [1e-7, 5e-7]\n",
    "regularization_strengths = [2.5e4, 5e4]\n",
    "\n",
    "################################################################################\n",
    "# TODO:                                                                        #\n",
    "# Use the validation set to set the learning rate and regularization strength. #\n",
    "# This should be identical to the validation that you did for the SVM; save    #\n",
    "# the best trained softmax classifer in best_softmax.                          #\n",
    "################################################################################\n",
    "for lr in np.linspace(1e-7,5e-7,5):\n",
    "    for rs in np.linspace(2.5e4,5e4,8):\n",
    "        softmax = Softmax()\n",
    "        softmax.train(X_train,y_train,lr,rs,100,100,True)\n",
    "        y_pred_train = softmax.predict(X_train)\n",
    "        y_pred_val = softmax.predict(X_val)\n",
    "        train_accuracy = np.mean(y_train == y_pred_train)\n",
    "        val_accuracy = np.mean(y_val == y_pred_val)\n",
    "        results[(lr,rs)] = train_accuracy, val_accuracy\n",
    "        if val_accuracy > best_val:\n",
    "            best_val = val_accuracy\n",
    "            best_softmax = softmax\n",
    "################################################################################\n",
    "#                              END OF YOUR CODE                                #\n",
    "################################################################################\n",
    "    \n",
    "# Print out results.\n",
    "for lr, reg in sorted(results):\n",
    "    train_accuracy, val_accuracy = results[(lr, reg)]\n",
    "    print('lr %e reg %e train accuracy: %f val accuracy: %f' % (\n",
    "                lr, reg, train_accuracy, val_accuracy))\n",
    "    \n",
    "print('best validation accuracy achieved during cross-validation: %f' % best_val)"
   ]
  },
  {
   "cell_type": "code",
   "execution_count": 8,
   "metadata": {},
   "outputs": [
    {
     "name": "stdout",
     "output_type": "stream",
     "text": [
      "softmax on raw pixels final test set accuracy: 0.306000\n"
     ]
    }
   ],
   "source": [
    "# evaluate on test set\n",
    "# Evaluate the best softmax on test set\n",
    "y_test_pred = best_softmax.predict(X_test)\n",
    "test_accuracy = np.mean(y_test == y_test_pred)\n",
    "print('softmax on raw pixels final test set accuracy: %f' % (test_accuracy, ))"
   ]
  },
  {
   "cell_type": "code",
   "execution_count": 9,
   "metadata": {},
   "outputs": [
    {
     "data": {
      "image/png": "[encoded data removed]",
      "text/plain": [
       "<Figure size 432x288 with 10 Axes>"
      ]
     },
     "metadata": {},
     "output_type": "display_data"
    }
   ],
   "source": [
    "# Visualize the learned weights for each class\n",
    "w = best_softmax.W[:-1,:] # strip out the bias\n",
    "w = w.reshape(32, 32, 3, 10)\n",
    "\n",
    "w_min, w_max = np.min(w), np.max(w)\n",
    "\n",
    "classes = ['plane', 'car', 'bird', 'cat', 'deer', 'dog', 'frog', 'horse', 'ship', 'truck']\n",
    "for i in range(10):\n",
    "    plt.subplot(2, 5, i + 1)\n",
    "    \n",
    "    # Rescale the weights to be between 0 and 255\n",
    "    wimg = 255.0 * (w[:, :, :, i].squeeze() - w_min) / (w_max - w_min)\n",
    "    plt.imshow(wimg.astype('uint8'))\n",
    "    plt.axis('off')\n",
    "    plt.title(classes[i])"
   ]
  }
 ],
 "metadata": {
  "kernelspec": {
   "display_name": "Python 3",
   "language": "python",
   "name": "python3"
  },
  "language_info": {
   "codemirror_mode": {
    "name": "ipython",
    "version": 3
   },
   "file_extension": ".py",
   "mimetype": "text/x-python",
   "name": "python",
   "nbconvert_exporter": "python",
   "pygments_lexer": "ipython3",
   "version": "3.6.5"
  }
 },
 "nbformat": 4,
 "nbformat_minor": 1
}
